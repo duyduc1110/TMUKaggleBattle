{
 "cells": [
  {
   "cell_type": "code",
   "execution_count": 1,
   "metadata": {},
   "outputs": [],
   "source": [
    "import numpy as np\n",
    "import pandas as pd\n",
    "import os\n",
    "import math\n",
    "import matplotlib.pyplot as plt\n",
    "import seaborn as sns"
   ]
  },
  {
   "cell_type": "code",
   "execution_count": 2,
   "metadata": {},
   "outputs": [],
   "source": [
    "path_neg = os.listdir(\"C:\\\\Users\\\\susan\\\\python\\\\機器學習與深度學習\\\\kaggle_02_pos&neg\\\\training_dataset\\\\neg\")\n",
    "path_pos = os.listdir(\"C:\\\\Users\\\\susan\\\\python\\\\機器學習與深度學習\\\\kaggle_02_pos&neg\\\\training_dataset\\\\pos\")\n",
    "\n",
    "text=[]\n",
    "text_neg=[]\n",
    "text_pos=[]\n",
    "sentiment=[]\n",
    "\n",
    "for t in path_neg:\n",
    "    with open('C:\\\\Users\\\\susan\\\\python\\\\機器學習與深度學習\\\\kaggle_02_pos&neg\\\\training_dataset\\\\neg\\\\'+t,\"r\",encoding=\"utf-8\")as x:\n",
    "        xxx=x.read()\n",
    "        text.append(xxx)\n",
    "        text_neg.append(xxx)\n",
    "        sentiment.append(\"neg\")\n",
    "for t in path_pos:\n",
    "    with open('C:\\\\Users\\\\susan\\\\python\\\\機器學習與深度學習\\\\kaggle_02_pos&neg\\\\training_dataset\\\\pos\\\\'+t,\"r\",encoding=\"utf-8\") as x:\n",
    "        xxx=x.read()\n",
    "        text.append(xxx)\n",
    "        text_pos.append(xxx)\n",
    "        sentiment.append(\"pos\")\n",
    "sentiment2=list(map(lambda x: 0 if x==\"neg\" else 1, sentiment))"
   ]
  },
  {
   "cell_type": "code",
   "execution_count": 3,
   "metadata": {},
   "outputs": [],
   "source": [
    "t=pd.read_csv(\"test_dataset.csv\",encoding=\"utf-8\",header=None)\n",
    "s=pd.read_csv(\"submission.csv\",encoding=\"utf-8\")"
   ]
  },
  {
   "cell_type": "code",
   "execution_count": 4,
   "metadata": {
    "scrolled": true
   },
   "outputs": [],
   "source": [
    "test_text=list(t.loc[:,1])\n",
    "while np.nan in test_text:\n",
    "    i=test_text.index(np.nan)\n",
    "    test_text[i]=\"\""
   ]
  },
  {
   "cell_type": "code",
   "execution_count": 5,
   "metadata": {},
   "outputs": [
    {
     "name": "stdout",
     "output_type": "stream",
     "text": [
      "25000\n",
      "12500\n",
      "12500\n",
      "5986\n",
      "25000\n",
      "25000\n"
     ]
    }
   ],
   "source": [
    "print(len(text))\n",
    "print(len(text_neg))\n",
    "print(len(text_pos))\n",
    "print(len(test_text))\n",
    "print(len(sentiment))\n",
    "print(len(sentiment2))"
   ]
  },
  {
   "cell_type": "code",
   "execution_count": 6,
   "metadata": {},
   "outputs": [
    {
     "name": "stdout",
     "output_type": "stream",
     "text": [
      "30986\n"
     ]
    }
   ],
   "source": [
    "text_all=text+test_text\n",
    "print(len(text_all))"
   ]
  },
  {
   "cell_type": "code",
   "execution_count": 7,
   "metadata": {
    "scrolled": true
   },
   "outputs": [],
   "source": [
    "#print(text[:1])\n",
    "#print(text_neg[:1])\n",
    "#print(text_pos[:1])"
   ]
  },
  {
   "cell_type": "code",
   "execution_count": 8,
   "metadata": {},
   "outputs": [],
   "source": [
    "from sklearn.feature_extraction.text import TfidfVectorizer"
   ]
  },
  {
   "cell_type": "code",
   "execution_count": 9,
   "metadata": {},
   "outputs": [],
   "source": [
    "ct=TfidfVectorizer(lowercase=True)\n",
    "text_all_ar=ct.fit_transform(text_all).toarray()\n",
    "fn=ct.get_feature_names()"
   ]
  },
  {
   "cell_type": "code",
   "execution_count": 10,
   "metadata": {},
   "outputs": [],
   "source": [
    "from sklearn.decomposition import PCA"
   ]
  },
  {
   "cell_type": "code",
   "execution_count": 11,
   "metadata": {},
   "outputs": [
    {
     "data": {
      "text/plain": [
       "(30986, 76859)"
      ]
     },
     "execution_count": 11,
     "metadata": {},
     "output_type": "execute_result"
    }
   ],
   "source": [
    "text_all_ar.shape"
   ]
  },
  {
   "cell_type": "code",
   "execution_count": 37,
   "metadata": {},
   "outputs": [],
   "source": [
    "pca=PCA(n_components=100,copy=False)"
   ]
  },
  {
   "cell_type": "code",
   "execution_count": 38,
   "metadata": {},
   "outputs": [],
   "source": [
    "pca_ar_100=pca.fit_transform(text_all_ar)"
   ]
  },
  {
   "cell_type": "code",
   "execution_count": 39,
   "metadata": {},
   "outputs": [
    {
     "data": {
      "text/plain": [
       "(30986, 76859)"
      ]
     },
     "execution_count": 39,
     "metadata": {},
     "output_type": "execute_result"
    }
   ],
   "source": [
    "text_all_ar.shape"
   ]
  },
  {
   "cell_type": "code",
   "execution_count": 40,
   "metadata": {},
   "outputs": [
    {
     "data": {
      "text/plain": [
       "(30986, 100)"
      ]
     },
     "execution_count": 40,
     "metadata": {},
     "output_type": "execute_result"
    }
   ],
   "source": [
    "pca_ar_100.shape"
   ]
  },
  {
   "cell_type": "code",
   "execution_count": 41,
   "metadata": {},
   "outputs": [],
   "source": [
    "pca_ar_tr=pca_ar_100[:25000]\n",
    "pca_ar_te=pca_ar_100[25000:]\n",
    "#pca_ar_tr_50=pca_ar[:25000]\n",
    "#pca_ar_te_50=pca_ar[25000:]\n",
    "#pca_ar 目前為50維"
   ]
  },
  {
   "cell_type": "code",
   "execution_count": 42,
   "metadata": {},
   "outputs": [
    {
     "data": {
      "text/plain": [
       "(25000, 100)"
      ]
     },
     "execution_count": 42,
     "metadata": {},
     "output_type": "execute_result"
    }
   ],
   "source": [
    "pca_ar_tr.shape"
   ]
  },
  {
   "cell_type": "code",
   "execution_count": 43,
   "metadata": {},
   "outputs": [
    {
     "data": {
      "text/plain": [
       "(5986, 100)"
      ]
     },
     "execution_count": 43,
     "metadata": {},
     "output_type": "execute_result"
    }
   ],
   "source": [
    "pca_ar_te.shape"
   ]
  },
  {
   "cell_type": "markdown",
   "metadata": {},
   "source": [
    "============================================================================================"
   ]
  },
  {
   "cell_type": "code",
   "execution_count": 44,
   "metadata": {},
   "outputs": [],
   "source": [
    "from sklearn.model_selection import KFold\n",
    "from sklearn.metrics import confusion_matrix\n",
    "from sklearn import metrics"
   ]
  },
  {
   "cell_type": "code",
   "execution_count": 45,
   "metadata": {
    "scrolled": false
   },
   "outputs": [
    {
     "name": "stderr",
     "output_type": "stream",
     "text": [
      "C:\\Users\\susan\\Anaconda3\\lib\\site-packages\\sklearn\\linear_model\\logistic.py:432: FutureWarning: Default solver will be changed to 'lbfgs' in 0.22. Specify a solver to silence this warning.\n",
      "  FutureWarning)\n",
      "C:\\Users\\susan\\Anaconda3\\lib\\site-packages\\sklearn\\linear_model\\logistic.py:432: FutureWarning: Default solver will be changed to 'lbfgs' in 0.22. Specify a solver to silence this warning.\n",
      "  FutureWarning)\n",
      "C:\\Users\\susan\\Anaconda3\\lib\\site-packages\\sklearn\\linear_model\\logistic.py:432: FutureWarning: Default solver will be changed to 'lbfgs' in 0.22. Specify a solver to silence this warning.\n",
      "  FutureWarning)\n",
      "C:\\Users\\susan\\Anaconda3\\lib\\site-packages\\sklearn\\linear_model\\logistic.py:432: FutureWarning: Default solver will be changed to 'lbfgs' in 0.22. Specify a solver to silence this warning.\n",
      "  FutureWarning)\n",
      "C:\\Users\\susan\\Anaconda3\\lib\\site-packages\\sklearn\\linear_model\\logistic.py:432: FutureWarning: Default solver will be changed to 'lbfgs' in 0.22. Specify a solver to silence this warning.\n",
      "  FutureWarning)\n",
      "C:\\Users\\susan\\Anaconda3\\lib\\site-packages\\sklearn\\linear_model\\logistic.py:432: FutureWarning: Default solver will be changed to 'lbfgs' in 0.22. Specify a solver to silence this warning.\n",
      "  FutureWarning)\n",
      "C:\\Users\\susan\\Anaconda3\\lib\\site-packages\\sklearn\\linear_model\\logistic.py:432: FutureWarning: Default solver will be changed to 'lbfgs' in 0.22. Specify a solver to silence this warning.\n",
      "  FutureWarning)\n",
      "C:\\Users\\susan\\Anaconda3\\lib\\site-packages\\sklearn\\linear_model\\logistic.py:432: FutureWarning: Default solver will be changed to 'lbfgs' in 0.22. Specify a solver to silence this warning.\n",
      "  FutureWarning)\n",
      "C:\\Users\\susan\\Anaconda3\\lib\\site-packages\\sklearn\\linear_model\\logistic.py:432: FutureWarning: Default solver will be changed to 'lbfgs' in 0.22. Specify a solver to silence this warning.\n",
      "  FutureWarning)\n",
      "C:\\Users\\susan\\Anaconda3\\lib\\site-packages\\sklearn\\linear_model\\logistic.py:432: FutureWarning: Default solver will be changed to 'lbfgs' in 0.22. Specify a solver to silence this warning.\n",
      "  FutureWarning)\n"
     ]
    },
    {
     "name": "stdout",
     "output_type": "stream",
     "text": [
      "=====naive bayse=====\n",
      "              precision    recall  f1-score   support\n",
      "\n",
      "           0       0.74      0.82      0.78     11325\n",
      "           1       0.83      0.76      0.80     13675\n",
      "\n",
      "    accuracy                           0.79     25000\n",
      "   macro avg       0.79      0.79      0.79     25000\n",
      "weighted avg       0.79      0.79      0.79     25000\n",
      "\n"
     ]
    },
    {
     "data": {
      "image/png": "[encoded data removed]",
      "text/plain": [
       "<Figure size 432x288 with 1 Axes>"
      ]
     },
     "metadata": {
      "needs_background": "light"
     },
     "output_type": "display_data"
    },
    {
     "name": "stdout",
     "output_type": "stream",
     "text": [
      "=====LogisticRegression=====\n",
      "              precision    recall  f1-score   support\n",
      "\n",
      "           0       0.82      0.85      0.83     12027\n",
      "           1       0.86      0.82      0.84     12973\n",
      "\n",
      "    accuracy                           0.84     25000\n",
      "   macro avg       0.84      0.84      0.84     25000\n",
      "weighted avg       0.84      0.84      0.84     25000\n",
      "\n"
     ]
    },
    {
     "data": {
      "image/png": "[encoded data removed]",
      "text/plain": [
       "<Figure size 432x288 with 1 Axes>"
      ]
     },
     "metadata": {
      "needs_background": "light"
     },
     "output_type": "display_data"
    }
   ],
   "source": [
    "from sklearn.naive_bayes import GaussianNB\n",
    "#from sklearn.linear_model import LinearRegression \n",
    "from sklearn.linear_model import LogisticRegression\n",
    "#from sklearn.ensemble import RandomForestClassifier\n",
    "#from sklearn.ensemble import GradientBoostingClassifier\n",
    "\n",
    "kf=KFold(n_splits=10,shuffle=True)\n",
    "\n",
    "expect=[]\n",
    "predict=[]\n",
    "predict3=[]\n",
    "\n",
    "for i, j in kf.split(pca_ar_tr):\n",
    "    tr_data=pca_ar_tr[i]\n",
    "    tr_target=np.array(sentiment2)[i]\n",
    "    te_data=pca_ar_tr[j]\n",
    "    te_target=np.array(sentiment2)[j]\n",
    "    \n",
    "    expect.extend(te_target)\n",
    "    \n",
    "    classifier=GaussianNB()\n",
    "    classifier.fit(tr_data,tr_target)\n",
    "    predict.extend(classifier.predict(te_data))\n",
    "    \n",
    "    classifier3=LogisticRegression()\n",
    "    classifier3.fit(tr_data,tr_target)\n",
    "    predict3.extend(classifier3.predict(te_data))        \n",
    "    \n",
    "print(\"=====naive bayse=====\")\n",
    "print(metrics.classification_report(predict,expect))\n",
    "mat1=confusion_matrix(predict,expect)\n",
    "sns.heatmap(mat1, square=True, annot=True, fmt=\"d\",cbar=False)\n",
    "plt.show()\n",
    "\n",
    "print(\"=====LogisticRegression=====\")\n",
    "print(metrics.classification_report(predict3,expect))\n",
    "mat3=confusion_matrix(predict3,expect)\n",
    "sns.heatmap(mat3, square=True, annot=True, fmt=\"d\",cbar=False)\n",
    "plt.show()  \n"
   ]
  },
  {
   "cell_type": "markdown",
   "metadata": {},
   "source": [
    "========================================================================================="
   ]
  },
  {
   "cell_type": "code",
   "execution_count": 46,
   "metadata": {},
   "outputs": [
    {
     "name": "stderr",
     "output_type": "stream",
     "text": [
      "C:\\Users\\susan\\Anaconda3\\lib\\site-packages\\sklearn\\linear_model\\logistic.py:432: FutureWarning: Default solver will be changed to 'lbfgs' in 0.22. Specify a solver to silence this warning.\n",
      "  FutureWarning)\n"
     ]
    },
    {
     "data": {
      "text/plain": [
       "LogisticRegression(C=1.0, class_weight=None, dual=False, fit_intercept=True,\n",
       "                   intercept_scaling=1, l1_ratio=None, max_iter=100,\n",
       "                   multi_class='warn', n_jobs=None, penalty='l2',\n",
       "                   random_state=None, solver='warn', tol=0.0001, verbose=0,\n",
       "                   warm_start=False)"
      ]
     },
     "execution_count": 46,
     "metadata": {},
     "output_type": "execute_result"
    }
   ],
   "source": [
    "classifier_final=LogisticRegression()\n",
    "classifier_final.fit(pca_ar_tr,sentiment2)   "
   ]
  },
  {
   "cell_type": "code",
   "execution_count": 47,
   "metadata": {},
   "outputs": [],
   "source": [
    "predict_final=classifier_final.predict(pca_ar_te)"
   ]
  },
  {
   "cell_type": "code",
   "execution_count": 48,
   "metadata": {},
   "outputs": [
    {
     "data": {
      "text/plain": [
       "array([0, 0, 1, ..., 1, 1, 1])"
      ]
     },
     "execution_count": 48,
     "metadata": {},
     "output_type": "execute_result"
    }
   ],
   "source": [
    "predict_final"
   ]
  },
  {
   "cell_type": "code",
   "execution_count": 49,
   "metadata": {},
   "outputs": [],
   "source": [
    "ss=list(map(lambda x: \"neg\" if x==0 else \"pos\", list(predict_final)))"
   ]
  },
  {
   "cell_type": "code",
   "execution_count": 50,
   "metadata": {},
   "outputs": [],
   "source": [
    "s[\"Label\"]=ss\n",
    "s.to_csv(\"submission_LR.csv\",encoding=\"utf-8\")"
   ]
  },
  {
   "cell_type": "markdown",
   "metadata": {},
   "source": [
    "========================================================================================="
   ]
  },
  {
   "cell_type": "code",
   "execution_count": 51,
   "metadata": {},
   "outputs": [
    {
     "name": "stderr",
     "output_type": "stream",
     "text": [
      "Using TensorFlow backend.\n"
     ]
    }
   ],
   "source": [
    "from keras.models import Sequential\n",
    "from keras.layers import Dense, Dropout\n",
    "from sklearn import metrics"
   ]
  },
  {
   "cell_type": "code",
   "execution_count": 52,
   "metadata": {},
   "outputs": [
    {
     "name": "stdout",
     "output_type": "stream",
     "text": [
      "(25000, 100)\n",
      "(5986, 100)\n"
     ]
    }
   ],
   "source": [
    "print(pca_ar_tr.shape)\n",
    "print(pca_ar_te.shape)"
   ]
  },
  {
   "cell_type": "code",
   "execution_count": 73,
   "metadata": {},
   "outputs": [
    {
     "name": "stdout",
     "output_type": "stream",
     "text": [
      "Train on 22500 samples, validate on 2500 samples\n",
      "Epoch 1/20\n",
      " - 1s - loss: 0.4004 - accuracy: 0.8108 - val_loss: 0.2802 - val_accuracy: 0.8884\n",
      "Epoch 2/20\n",
      " - 1s - loss: 0.3564 - accuracy: 0.8416 - val_loss: 0.5015 - val_accuracy: 0.7532\n",
      "Epoch 3/20\n",
      " - 1s - loss: 0.3460 - accuracy: 0.8476 - val_loss: 0.3982 - val_accuracy: 0.8120\n",
      "Epoch 4/20\n",
      " - 1s - loss: 0.3355 - accuracy: 0.8533 - val_loss: 0.4069 - val_accuracy: 0.8104\n",
      "Epoch 5/20\n",
      " - 1s - loss: 0.3237 - accuracy: 0.8596 - val_loss: 0.4786 - val_accuracy: 0.7720\n",
      "Epoch 6/20\n",
      " - 1s - loss: 0.3109 - accuracy: 0.8676 - val_loss: 0.3786 - val_accuracy: 0.8252\n",
      "Epoch 7/20\n",
      " - 1s - loss: 0.2991 - accuracy: 0.8743 - val_loss: 0.3366 - val_accuracy: 0.8584\n",
      "Epoch 8/20\n",
      " - 1s - loss: 0.2878 - accuracy: 0.8807 - val_loss: 0.3431 - val_accuracy: 0.8580\n",
      "Epoch 9/20\n",
      " - 1s - loss: 0.2759 - accuracy: 0.8867 - val_loss: 0.4076 - val_accuracy: 0.8296\n",
      "Epoch 10/20\n",
      " - 1s - loss: 0.2633 - accuracy: 0.8917 - val_loss: 0.3680 - val_accuracy: 0.8444\n",
      "Epoch 11/20\n",
      " - 1s - loss: 0.2516 - accuracy: 0.8996 - val_loss: 0.3993 - val_accuracy: 0.8396\n",
      "Epoch 12/20\n",
      " - 1s - loss: 0.2431 - accuracy: 0.9036 - val_loss: 0.5479 - val_accuracy: 0.7824\n",
      "Epoch 13/20\n",
      " - 1s - loss: 0.2290 - accuracy: 0.9104 - val_loss: 0.4590 - val_accuracy: 0.8252\n",
      "Epoch 14/20\n",
      " - 1s - loss: 0.2189 - accuracy: 0.9130 - val_loss: 0.4322 - val_accuracy: 0.8368\n",
      "Epoch 15/20\n",
      " - 1s - loss: 0.2088 - accuracy: 0.9191 - val_loss: 0.4763 - val_accuracy: 0.8228\n",
      "Epoch 16/20\n",
      " - 1s - loss: 0.1960 - accuracy: 0.9248 - val_loss: 0.7178 - val_accuracy: 0.7404\n",
      "Epoch 17/20\n",
      " - 1s - loss: 0.1856 - accuracy: 0.9278 - val_loss: 0.5067 - val_accuracy: 0.8420\n",
      "Epoch 18/20\n",
      " - 1s - loss: 0.1784 - accuracy: 0.9290 - val_loss: 0.5463 - val_accuracy: 0.8316\n",
      "Epoch 19/20\n",
      " - 1s - loss: 0.1681 - accuracy: 0.9335 - val_loss: 0.6955 - val_accuracy: 0.7892\n",
      "Epoch 20/20\n",
      " - 1s - loss: 0.1584 - accuracy: 0.9382 - val_loss: 0.7119 - val_accuracy: 0.7960\n"
     ]
    }
   ],
   "source": [
    "model3=Sequential() \n",
    "model3.add(Dense(units=100,input_dim=100,kernel_initializer=\"uniform\",activation=\"relu\")) \n",
    "model3.add(Dense(units=100,input_dim=100,kernel_initializer=\"uniform\",activation=\"relu\")) \n",
    "model3.add(Dense(units=500,kernel_initializer=\"uniform\",activation=\"relu\"))\n",
    "#model3.add(Dense(units=50,kernel_initializer=\"uniform\",activation=\"relu\"))\n",
    "model3.add(Dense(units=1,kernel_initializer=\"uniform\",activation=\"sigmoid\"))\n",
    "model3.compile(loss=\"binary_crossentropy\",optimizer=\"adam\",metrics=[\"accuracy\"])\n",
    "train_history=model3.fit(x=pca_ar_tr, y=np.array(sentiment2), validation_split=0.1, epochs=20, batch_size=30, verbose=2)"
   ]
  },
  {
   "cell_type": "code",
   "execution_count": 74,
   "metadata": {},
   "outputs": [],
   "source": [
    "predict_MLP_3=model3.predict(pca_ar_te)"
   ]
  },
  {
   "cell_type": "code",
   "execution_count": 78,
   "metadata": {},
   "outputs": [],
   "source": [
    "ss=list(map(lambda x: \"neg\" if x<0.5 else \"pos\", list(predict_MLP_3)))\n",
    "s[\"Label\"]=ss\n",
    "s.to_csv(\"submission_MLP2.csv\",encoding=\"utf-8\")"
   ]
  },
  {
   "cell_type": "code",
   "execution_count": 76,
   "metadata": {},
   "outputs": [
    {
     "data": {
      "text/plain": [
       "array([[4.7875792e-01],\n",
       "       [9.5832348e-04],\n",
       "       [9.9936318e-01],\n",
       "       ...,\n",
       "       [9.8544842e-01],\n",
       "       [1.0000000e+00],\n",
       "       [9.9999988e-01]], dtype=float32)"
      ]
     },
     "execution_count": 76,
     "metadata": {},
     "output_type": "execute_result"
    }
   ],
   "source": [
    "predict_MLP_3"
   ]
  },
  {
   "cell_type": "code",
   "execution_count": null,
   "metadata": {},
   "outputs": [],
   "source": []
  }
 ],
 "metadata": {
  "kernelspec": {
   "display_name": "Python 3",
   "language": "python",
   "name": "python3"
  },
  "language_info": {
   "codemirror_mode": {
    "name": "ipython",
    "version": 3
   },
   "file_extension": ".py",
   "mimetype": "text/x-python",
   "name": "python",
   "nbconvert_exporter": "python",
   "pygments_lexer": "ipython3",
   "version": "3.7.4"
  }
 },
 "nbformat": 4,
 "nbformat_minor": 2
}
